{
 "cells": [
  {
   "cell_type": "markdown",
   "id": "55e6b918-afac-43e8-b338-43f8ac64014f",
   "metadata": {},
   "source": [
    "##  Deep Neural Networks Project"
   ]
  },
  {
   "cell_type": "markdown",
   "id": "1a8e066d-2849-4a6e-9c71-bb98d605ae07",
   "metadata": {},
   "source": [
    "In this project, you will be working with a real-world data set from the Las Vegas Metropolitan Police Department. The dataset  contains information about the reported incidents, including the time and location of the crime, type of incident, and number of persons involved. "
   ]
  },
  {
   "cell_type": "markdown",
   "id": "9e87fac7-352a-4c39-b087-76254b5e2743",
   "metadata": {},
   "source": [
    "The dataset is downloaded from the public docket at: \n",
    "https://opendata-lvmpd.hub.arcgis.com\n",
    "\n",
    "let's read the csv file and transform the data:"
   ]
  },
  {
   "cell_type": "code",
   "execution_count": 1,
   "id": "637211a4-582f-426b-a127-c3f284463f35",
   "metadata": {},
   "outputs": [],
   "source": [
    "import torch\n",
    "import pandas as pd\n",
    "from torch.utils.data import DataLoader, Dataset\n",
    "import matplotlib.pyplot as plt\n",
    "import seaborn as sns\n",
    "import numpy as np"
   ]
  },
  {
   "cell_type": "code",
   "execution_count": 2,
   "id": "bcf40b02-80b6-4abc-a662-f7ed50a65181",
   "metadata": {},
   "outputs": [],
   "source": [
    "orig_df = pd.read_csv('LVMPD-Stats.csv', parse_dates=['ReportedOn'])"
   ]
  },
  {
   "cell_type": "code",
   "execution_count": 3,
   "id": "e1ca1d15-3955-4971-a3c4-c1a73b62edda",
   "metadata": {},
   "outputs": [],
   "source": [
    "df = pd.read_csv('LVMPD-Stats.csv', parse_dates=['ReportedOn'],\n",
    "                 usecols = ['X', 'Y', 'ReportedOn',\n",
    "                            'Area_Command','NIBRSOffenseCode',\n",
    "                            'VictimCount' ] )\n",
    "\n",
    "df['DayOfWeek'] = df['ReportedOn'].dt.day_name()\n",
    "df['Time' ]     = df['ReportedOn'].dt.hour\n",
    "df.drop(columns = 'ReportedOn', inplace=True)"
   ]
  },
  {
   "cell_type": "code",
   "execution_count": 4,
   "id": "3ddc413d-ba3f-4204-bc18-7fdd4de8d221",
   "metadata": {},
   "outputs": [],
   "source": [
    "df['X'] = df['X'] \n",
    "df['Y'] = df['Y'] \n",
    "df['Time'] = pd.factorize(df['Time'])[0]\n",
    "df['DayOfWeek'] = pd.factorize(df['DayOfWeek'])[0]\n",
    "df.Area_Command = pd.factorize(df['Area_Command'])[0]\n",
    "df.VictimCount = pd.factorize(df['VictimCount'])[0]\n",
    "df.NIBRSOffenseCode = pd.factorize(df['NIBRSOffenseCode'])[0]\n",
    "df.dropna(inplace=True)"
   ]
  },
  {
   "cell_type": "code",
   "execution_count": 5,
   "id": "a9c6162f-9686-4195-818d-950a6368c686",
   "metadata": {},
   "outputs": [],
   "source": [
    "df= df[['X', 'Y', 'Area_Command', 'NIBRSOffenseCode',\n",
    "       'DayOfWeek', 'Time','VictimCount']]"
   ]
  },
  {
   "cell_type": "code",
   "execution_count": 6,
   "id": "a90bc78a-6d1b-4fe4-a1b0-8333aec1c851",
   "metadata": {},
   "outputs": [
    {
     "data": {
      "text/plain": [
       "(275, 7)"
      ]
     },
     "execution_count": 6,
     "metadata": {},
     "output_type": "execute_result"
    }
   ],
   "source": [
    "df.values.shape"
   ]
  },
  {
   "cell_type": "markdown",
   "id": "651605b1-8d2c-4d3e-a09e-9aef6e550fc6",
   "metadata": {},
   "source": [
    "## Goal\n",
    "The goal is to build a predictive model that is trained on the following data:\n",
    "* latitude and longitude (location)\n",
    "* Hour of the day\n",
    "* Day of the week\n",
    "* Area-of-command code: The police designation of the bureau of the operation.\n",
    "* Classification code for the crime committed\n",
    "  \n",
    "The predicted variable is the number of persons involved in the accident.\n"
   ]
  },
  {
   "cell_type": "markdown",
   "id": "0e54f0b8-83f9-4db9-88f9-f5a595342069",
   "metadata": {},
   "source": [
    "## Task 1\n",
    "* print a few rows of the values in the dataframe ``df`` and explain what each column of data means. \n",
    "* identify the input and target variables\n",
    "* what is the range of values in each column? Do you need to scale, shift or normalize your data? \n"
   ]
  },
  {
   "cell_type": "code",
   "execution_count": 7,
   "id": "8a8df245",
   "metadata": {},
   "outputs": [
    {
     "data": {
      "text/html": [
       "<div>\n",
       "<style scoped>\n",
       "    .dataframe tbody tr th:only-of-type {\n",
       "        vertical-align: middle;\n",
       "    }\n",
       "\n",
       "    .dataframe tbody tr th {\n",
       "        vertical-align: top;\n",
       "    }\n",
       "\n",
       "    .dataframe thead th {\n",
       "        text-align: right;\n",
       "    }\n",
       "</style>\n",
       "<table border=\"1\" class=\"dataframe\">\n",
       "  <thead>\n",
       "    <tr style=\"text-align: right;\">\n",
       "      <th></th>\n",
       "      <th>X</th>\n",
       "      <th>Y</th>\n",
       "      <th>Area_Command</th>\n",
       "      <th>NIBRSOffenseCode</th>\n",
       "      <th>DayOfWeek</th>\n",
       "      <th>Time</th>\n",
       "      <th>VictimCount</th>\n",
       "    </tr>\n",
       "  </thead>\n",
       "  <tbody>\n",
       "    <tr>\n",
       "      <th>0</th>\n",
       "      <td>-115.087518</td>\n",
       "      <td>36.216702</td>\n",
       "      <td>0</td>\n",
       "      <td>0</td>\n",
       "      <td>0</td>\n",
       "      <td>0</td>\n",
       "      <td>0</td>\n",
       "    </tr>\n",
       "    <tr>\n",
       "      <th>1</th>\n",
       "      <td>-115.240172</td>\n",
       "      <td>36.189693</td>\n",
       "      <td>1</td>\n",
       "      <td>1</td>\n",
       "      <td>1</td>\n",
       "      <td>1</td>\n",
       "      <td>0</td>\n",
       "    </tr>\n",
       "    <tr>\n",
       "      <th>2</th>\n",
       "      <td>-115.143088</td>\n",
       "      <td>36.181329</td>\n",
       "      <td>2</td>\n",
       "      <td>1</td>\n",
       "      <td>2</td>\n",
       "      <td>0</td>\n",
       "      <td>1</td>\n",
       "    </tr>\n",
       "    <tr>\n",
       "      <th>3</th>\n",
       "      <td>-115.225014</td>\n",
       "      <td>36.117633</td>\n",
       "      <td>3</td>\n",
       "      <td>1</td>\n",
       "      <td>1</td>\n",
       "      <td>2</td>\n",
       "      <td>2</td>\n",
       "    </tr>\n",
       "    <tr>\n",
       "      <th>4</th>\n",
       "      <td>-115.176708</td>\n",
       "      <td>36.095967</td>\n",
       "      <td>4</td>\n",
       "      <td>1</td>\n",
       "      <td>1</td>\n",
       "      <td>3</td>\n",
       "      <td>0</td>\n",
       "    </tr>\n",
       "    <tr>\n",
       "      <th>5</th>\n",
       "      <td>-115.132162</td>\n",
       "      <td>36.100841</td>\n",
       "      <td>5</td>\n",
       "      <td>1</td>\n",
       "      <td>3</td>\n",
       "      <td>4</td>\n",
       "      <td>1</td>\n",
       "    </tr>\n",
       "    <tr>\n",
       "      <th>6</th>\n",
       "      <td>-115.176012</td>\n",
       "      <td>36.194067</td>\n",
       "      <td>1</td>\n",
       "      <td>1</td>\n",
       "      <td>4</td>\n",
       "      <td>5</td>\n",
       "      <td>2</td>\n",
       "    </tr>\n",
       "    <tr>\n",
       "      <th>7</th>\n",
       "      <td>-115.194061</td>\n",
       "      <td>36.135213</td>\n",
       "      <td>3</td>\n",
       "      <td>1</td>\n",
       "      <td>4</td>\n",
       "      <td>3</td>\n",
       "      <td>1</td>\n",
       "    </tr>\n",
       "    <tr>\n",
       "      <th>8</th>\n",
       "      <td>-115.069716</td>\n",
       "      <td>36.191304</td>\n",
       "      <td>0</td>\n",
       "      <td>1</td>\n",
       "      <td>5</td>\n",
       "      <td>6</td>\n",
       "      <td>0</td>\n",
       "    </tr>\n",
       "    <tr>\n",
       "      <th>9</th>\n",
       "      <td>-115.309341</td>\n",
       "      <td>36.074367</td>\n",
       "      <td>6</td>\n",
       "      <td>1</td>\n",
       "      <td>6</td>\n",
       "      <td>1</td>\n",
       "      <td>0</td>\n",
       "    </tr>\n",
       "  </tbody>\n",
       "</table>\n",
       "</div>"
      ],
      "text/plain": [
       "            X          Y  Area_Command  NIBRSOffenseCode  DayOfWeek  Time  \\\n",
       "0 -115.087518  36.216702             0                 0          0     0   \n",
       "1 -115.240172  36.189693             1                 1          1     1   \n",
       "2 -115.143088  36.181329             2                 1          2     0   \n",
       "3 -115.225014  36.117633             3                 1          1     2   \n",
       "4 -115.176708  36.095967             4                 1          1     3   \n",
       "5 -115.132162  36.100841             5                 1          3     4   \n",
       "6 -115.176012  36.194067             1                 1          4     5   \n",
       "7 -115.194061  36.135213             3                 1          4     3   \n",
       "8 -115.069716  36.191304             0                 1          5     6   \n",
       "9 -115.309341  36.074367             6                 1          6     1   \n",
       "\n",
       "   VictimCount  \n",
       "0            0  \n",
       "1            0  \n",
       "2            1  \n",
       "3            2  \n",
       "4            0  \n",
       "5            1  \n",
       "6            2  \n",
       "7            1  \n",
       "8            0  \n",
       "9            0  "
      ]
     },
     "execution_count": 7,
     "metadata": {},
     "output_type": "execute_result"
    }
   ],
   "source": [
    "#to print the first 10 rows in the dataframe\n",
    "df.head(10)"
   ]
  },
  {
   "cell_type": "markdown",
   "id": "61e92adc",
   "metadata": {},
   "source": [
    "*Latitude and Longitude: These columns represent the geographical coordinates (location) of the incident.\n",
    "*Hour of the day: This column indicates the hour of the day when the incident occurred.\n",
    "*Day of the week: This column represents the day of the week when the incident occurred.\n",
    "*Area-of-command code: This column is related to the police designation of the bureau of the operation.\n",
    "*Classification code for the crime committed: This column specifies the type or classification of the crime committed.\n",
    "*Number of persons involved in the accident: This is the target variable that we want to predict which represents the count of individuals involved in the incident"
   ]
  },
  {
   "cell_type": "markdown",
   "id": "737f6ab1",
   "metadata": {},
   "source": [
    "Inputs:1)Latitude and Longitude\n",
    "       2)Hour of the day\n",
    "       3)Day of the week\n",
    "       4)Area-of-command code\n",
    "       5)Classification code for the crime committed\n",
    "Output:Number of persons involved in the crime"
   ]
  },
  {
   "cell_type": "code",
   "execution_count": 8,
   "id": "ba876bff",
   "metadata": {},
   "outputs": [
    {
     "data": {
      "text/html": [
       "<div>\n",
       "<style scoped>\n",
       "    .dataframe tbody tr th:only-of-type {\n",
       "        vertical-align: middle;\n",
       "    }\n",
       "\n",
       "    .dataframe tbody tr th {\n",
       "        vertical-align: top;\n",
       "    }\n",
       "\n",
       "    .dataframe thead th {\n",
       "        text-align: right;\n",
       "    }\n",
       "</style>\n",
       "<table border=\"1\" class=\"dataframe\">\n",
       "  <thead>\n",
       "    <tr style=\"text-align: right;\">\n",
       "      <th></th>\n",
       "      <th>X</th>\n",
       "      <th>Y</th>\n",
       "      <th>Area_Command</th>\n",
       "      <th>NIBRSOffenseCode</th>\n",
       "      <th>DayOfWeek</th>\n",
       "      <th>Time</th>\n",
       "      <th>VictimCount</th>\n",
       "    </tr>\n",
       "  </thead>\n",
       "  <tbody>\n",
       "    <tr>\n",
       "      <th>count</th>\n",
       "      <td>275.000000</td>\n",
       "      <td>275.000000</td>\n",
       "      <td>275.000000</td>\n",
       "      <td>275.000000</td>\n",
       "      <td>275.000000</td>\n",
       "      <td>275.000000</td>\n",
       "      <td>275.000000</td>\n",
       "    </tr>\n",
       "    <tr>\n",
       "      <th>mean</th>\n",
       "      <td>-115.159326</td>\n",
       "      <td>36.143360</td>\n",
       "      <td>3.978182</td>\n",
       "      <td>0.909091</td>\n",
       "      <td>2.981818</td>\n",
       "      <td>11.236364</td>\n",
       "      <td>0.712727</td>\n",
       "    </tr>\n",
       "    <tr>\n",
       "      <th>std</th>\n",
       "      <td>0.101294</td>\n",
       "      <td>0.118418</td>\n",
       "      <td>3.045799</td>\n",
       "      <td>0.334878</td>\n",
       "      <td>1.924590</td>\n",
       "      <td>7.039937</td>\n",
       "      <td>0.978427</td>\n",
       "    </tr>\n",
       "    <tr>\n",
       "      <th>min</th>\n",
       "      <td>-116.000000</td>\n",
       "      <td>35.068419</td>\n",
       "      <td>0.000000</td>\n",
       "      <td>0.000000</td>\n",
       "      <td>0.000000</td>\n",
       "      <td>0.000000</td>\n",
       "      <td>0.000000</td>\n",
       "    </tr>\n",
       "    <tr>\n",
       "      <th>25%</th>\n",
       "      <td>-115.209198</td>\n",
       "      <td>36.114704</td>\n",
       "      <td>1.000000</td>\n",
       "      <td>1.000000</td>\n",
       "      <td>1.000000</td>\n",
       "      <td>5.000000</td>\n",
       "      <td>0.000000</td>\n",
       "    </tr>\n",
       "    <tr>\n",
       "      <th>50%</th>\n",
       "      <td>-115.149945</td>\n",
       "      <td>36.152415</td>\n",
       "      <td>3.000000</td>\n",
       "      <td>1.000000</td>\n",
       "      <td>3.000000</td>\n",
       "      <td>11.000000</td>\n",
       "      <td>0.000000</td>\n",
       "    </tr>\n",
       "    <tr>\n",
       "      <th>75%</th>\n",
       "      <td>-115.105200</td>\n",
       "      <td>36.183854</td>\n",
       "      <td>6.000000</td>\n",
       "      <td>1.000000</td>\n",
       "      <td>5.000000</td>\n",
       "      <td>18.000000</td>\n",
       "      <td>1.000000</td>\n",
       "    </tr>\n",
       "    <tr>\n",
       "      <th>max</th>\n",
       "      <td>-114.625570</td>\n",
       "      <td>37.000000</td>\n",
       "      <td>11.000000</td>\n",
       "      <td>2.000000</td>\n",
       "      <td>6.000000</td>\n",
       "      <td>23.000000</td>\n",
       "      <td>6.000000</td>\n",
       "    </tr>\n",
       "  </tbody>\n",
       "</table>\n",
       "</div>"
      ],
      "text/plain": [
       "                X           Y  Area_Command  NIBRSOffenseCode   DayOfWeek  \\\n",
       "count  275.000000  275.000000    275.000000        275.000000  275.000000   \n",
       "mean  -115.159326   36.143360      3.978182          0.909091    2.981818   \n",
       "std      0.101294    0.118418      3.045799          0.334878    1.924590   \n",
       "min   -116.000000   35.068419      0.000000          0.000000    0.000000   \n",
       "25%   -115.209198   36.114704      1.000000          1.000000    1.000000   \n",
       "50%   -115.149945   36.152415      3.000000          1.000000    3.000000   \n",
       "75%   -115.105200   36.183854      6.000000          1.000000    5.000000   \n",
       "max   -114.625570   37.000000     11.000000          2.000000    6.000000   \n",
       "\n",
       "             Time  VictimCount  \n",
       "count  275.000000   275.000000  \n",
       "mean    11.236364     0.712727  \n",
       "std      7.039937     0.978427  \n",
       "min      0.000000     0.000000  \n",
       "25%      5.000000     0.000000  \n",
       "50%     11.000000     0.000000  \n",
       "75%     18.000000     1.000000  \n",
       "max     23.000000     6.000000  "
      ]
     },
     "execution_count": 8,
     "metadata": {},
     "output_type": "execute_result"
    }
   ],
   "source": [
    "df.describe()"
   ]
  },
  {
   "cell_type": "markdown",
   "id": "6cc322f2",
   "metadata": {},
   "source": [
    "#Range of values:Based on the above values,\n",
    "X====>Max=-114.625570 ; Min=-116.000000\n",
    "Y====>Max=37.000000 ; Min=-35.068419\n",
    "Area_Command======>Max=11.000000 ; Min=0.000000\n",
    "NIBRSOffenseCode====>Max=2.000000 ; Min=0.000000\n",
    "DayOfWeek====>Max=6.000000 ; Min=0.000000\n",
    "Time====>Max=23.000000 ; Min=0.000000\n",
    "VictimCount====>Max=6.000000 ; Min=0.000000\n",
    "\n",
    "The range of the values for each column are not too wide apart and hence no scaling would be required.\n",
    "However, there are some categorical data like Area_Command,which might need encoding techniques like one-hot encoding.\n",
    "Since there are no none values in the dataset, we need not remove any rows or columns from the dataset."
   ]
  },
  {
   "cell_type": "markdown",
   "id": "5549ecc9-3c0b-4efa-9a1f-340a25a1e4be",
   "metadata": {},
   "source": [
    "## Task 2 \n",
    "\n",
    "* Create two `DataLoader` objects for training and testing based on the input and output variables. Pick a reasonable batch size and verify the shape of data by iterating over the one dataset and printing the shape of the batched data. "
   ]
  },
  {
   "cell_type": "code",
   "execution_count": 9,
   "id": "00fe4287-934b-4799-9e43-c3571acfbab4",
   "metadata": {},
   "outputs": [
    {
     "name": "stdout",
     "output_type": "stream",
     "text": [
      "Shape of the Input batch: torch.Size([64, 6])\n",
      "Shape of the Target batch: torch.Size([64])\n"
     ]
    }
   ],
   "source": [
    "# Spliting the dataset into training and testing sets, e.g., 80% for training, 20% for testing\n",
    "train_ratio = 0.8\n",
    "train_size = int(train_ratio * len(df))\n",
    "test_size = len(df) - train_size\n",
    "train_data, test_data = df[:train_size], df[train_size:]\n",
    "\n",
    "# Defining a custom PyTorch Dataset class to handle your data\n",
    "class CustomisedDataset(Dataset):\n",
    "    def __init__(self, dataframe):\n",
    "        self.data = dataframe.values\n",
    "\n",
    "    def __len__(self):\n",
    "        return len(self.data)\n",
    "\n",
    "    def __getitem__(self, idx):\n",
    "        sample = self.data[idx]\n",
    "        x = sample[:-1] \n",
    "        y = sample[-1]\n",
    "        return x, y\n",
    "\n",
    "# Defining batch size\n",
    "size_of_batch = 64\n",
    "\n",
    "# Creating DataLoader objects for training and testing\n",
    "train_dataset = CustomisedDataset(train_data)\n",
    "train_loader = DataLoader(train_dataset, batch_size=size_of_batch, shuffle=True)\n",
    "\n",
    "test_dataset = CustomisedDataset(test_data)\n",
    "test_loader = DataLoader(test_dataset, batch_size=size_of_batch, shuffle=False)\n",
    "\n",
    "# Verify the shape of data by iterating over the DataLoader\n",
    "for batch in train_loader:\n",
    "    inputs, targets = batch\n",
    "    print(\"Shape of the Input batch:\", inputs.shape)\n",
    "    print(\"Shape of the Target batch:\", targets.shape)\n",
    "    break\n"
   ]
  },
  {
   "cell_type": "markdown",
   "id": "1fb6f08c-5e70-4b14-b62c-4686d9f7aace",
   "metadata": {},
   "source": [
    "## Task 3\n",
    "In this task you will try to predict number of crime victims as a **real number**. Therefore the machine learning problem is a **regression** problem. \n",
    "\n",
    "* Define the proper loss function for this task\n",
    "* what should the size of the predicted output be?\n",
    "* explain your choice of architecture, including how many layers you will be using\n",
    "* define an optimizer for training this model, choose a proper learning rate \n",
    "* write a training loop that obtains a batch out of the  training data and calculates the forward and backward passes over the neural network. Call the optimizer to update the weights of the neural network.\n",
    "* write a for loop that continues the training over a number of epochs. At the end of each epoch, calculate the ``MSE`` error on the test data and print it.\n",
    "* is your model training well? Adjust the learning rate, hidden size of the network, and try different activation functions and number of layers to achieve the best accuracy and report it. "
   ]
  },
  {
   "cell_type": "markdown",
   "id": "5ffb75e2",
   "metadata": {},
   "source": [
    "1)Loss Function: For a regression task, Mean Squared Error (MSE) is a commonly used loss function as it measures the \n",
    "average squared difference between the predicted and actual values. So, for this task, we can use the MSE loss.\n",
    "\n",
    "2)Output Size: Since we are predicting a single real number (the number of crime victims), the size of the predicted output should be 1.\n",
    "\n",
    "3)Choice of architecture:The number of layers and hidden units in each layer is a hyperparameter and can be adjusted based on experimentation.We can start with a few hidden layers like 2 or 3 and a moderate number of hidden units like 64 in each layer. Based on the acheived accuracy, we can change the layers and hidden units to achieve a better model.\n",
    "\n",
    "4)Optimizer and Learning Rate: A commonly used optimizer for training neural networks is Stochastic Gradient Descent (SGD),but in the model that we are building we can take Adam as it is easier to handle 'Nan' losses which I faced when training the model with SGD optimizer and we can choose an appropriate learning rate,like 0.01. We can adjust the learning rate  too during training based on accuracy."
   ]
  },
  {
   "cell_type": "code",
   "execution_count": 10,
   "id": "1a65a8f1",
   "metadata": {
    "scrolled": false
   },
   "outputs": [
    {
     "name": "stdout",
     "output_type": "stream",
     "text": [
      "Epoch [1/30] - Loss: 40.5226\n",
      "Epoch [2/30] - Loss: 23.1628\n",
      "Epoch [3/30] - Loss: 4.9860\n",
      "Epoch [4/30] - Loss: 3.4463\n",
      "Epoch [5/30] - Loss: 1.1454\n",
      "Epoch [6/30] - Loss: 1.8623\n",
      "Epoch [7/30] - Loss: 1.1829\n",
      "Epoch [8/30] - Loss: 1.1920\n",
      "Epoch [9/30] - Loss: 0.9359\n",
      "Epoch [10/30] - Loss: 0.9895\n",
      "Epoch [11/30] - Loss: 0.8870\n",
      "Epoch [12/30] - Loss: 0.7920\n",
      "Epoch [13/30] - Loss: 0.8193\n",
      "Epoch [14/30] - Loss: 0.8023\n",
      "Epoch [15/30] - Loss: 0.7746\n",
      "Epoch [16/30] - Loss: 0.8576\n",
      "Epoch [17/30] - Loss: 0.8587\n",
      "Epoch [18/30] - Loss: 0.7776\n",
      "Epoch [19/30] - Loss: 0.8264\n",
      "Epoch [20/30] - Loss: 0.9212\n",
      "Epoch [21/30] - Loss: 0.7534\n",
      "Epoch [22/30] - Loss: 0.7472\n",
      "Epoch [23/30] - Loss: 0.8539\n",
      "Epoch [24/30] - Loss: 0.8407\n",
      "Epoch [25/30] - Loss: 0.8372\n",
      "Epoch [26/30] - Loss: 0.8365\n",
      "Epoch [27/30] - Loss: 0.8032\n",
      "Epoch [28/30] - Loss: 0.8257\n",
      "Epoch [29/30] - Loss: 0.8244\n",
      "Epoch [30/30] - Loss: 0.8419\n",
      "Test MSE: 1.5162\n"
     ]
    }
   ],
   "source": [
    "import torch.nn as nn\n",
    "import torch.optim as optim\n",
    "\n",
    "#Building neural network architecture\n",
    "class RegressionCrimePredictor(nn.Module):\n",
    "    def __init__(self, input_size, hidden_size, output_size):\n",
    "        super(RegressionCrimePredictor, self).__init__()\n",
    "        self.fc1 = nn.Linear(input_size, hidden_size)\n",
    "        self.fc2 = nn.Linear(hidden_size, hidden_size)\n",
    "        self.fc3 = nn.Linear(hidden_size, output_size)\n",
    "\n",
    "    def forward(self, x):\n",
    "        x = torch.relu(self.fc1(x))\n",
    "        x = torch.relu(self.fc2(x))\n",
    "        x = self.fc3(x)\n",
    "        return x\n",
    "\n",
    "# Defining the model, loss function, and optimizer\n",
    "input_size = len(train_dataset[0][0])\n",
    "output_size = 1 \n",
    "hidden_size = 64\n",
    "regressionModel = RegressionCrimePredictor(input_size, hidden_size, output_size)\n",
    "criterion = nn.MSELoss()\n",
    "optimizer = optim.Adam(regressionModel.parameters(), lr=0.01)\n",
    "\n",
    "# Training loop\n",
    "num_of_epochs = 30\n",
    "for epoch in range(num_of_epochs):\n",
    "    regressionModel.train()\n",
    "    total_loss = 0.0\n",
    "    for inputs, targets in train_loader:\n",
    "        optimizer.zero_grad()\n",
    "        outputs = regressionModel(inputs.float())\n",
    "        loss = criterion(outputs, targets.float().view(-1, 1))\n",
    "        loss.backward()\n",
    "        optimizer.step()\n",
    "        total_loss += loss.item()\n",
    "    average_loss = total_loss / len(train_loader)\n",
    "    print(f\"Epoch [{epoch + 1}/{num_of_epochs}] - Loss: {average_loss:.4f}\")\n",
    "\n",
    "# Testing the model\n",
    "regressionModel.eval()\n",
    "total_mse = 0.0\n",
    "with torch.no_grad():\n",
    "    for inputs, targets in test_loader:\n",
    "        outputs = regressionModel(inputs.float())\n",
    "        mse = criterion(outputs, targets.float().view(-1, 1))\n",
    "        total_mse += mse.item()\n",
    "    average_mse = total_mse / len(test_loader)\n",
    "    print(f\"Test MSE: {average_mse:.4f}\")"
   ]
  },
  {
   "cell_type": "markdown",
   "id": "52b80906",
   "metadata": {},
   "source": [
    "*Optimizer change:When using SDG as optimizer, we get Nan as loss. Using Adam as optimizer has solved the issue.\n",
    "*Learning rate change:Changing the learning rate to 0.001 from 0.01 has incresed the average MSE by a little percentage.\n",
    "*Changing number of epochs gradually lead to a decrease in loss and improve in accuracy.However, with a gicen structure, there is not much change in the improvement of accuracy after certain epochs like 30 in my case.\n",
    "*Changing the number of hidden units: While testing with different values of hidden units keeping the remaning values unchanged, having 64 units have given lowest loss and better accuracy."
   ]
  },
  {
   "cell_type": "markdown",
   "id": "86e3fc70-c6ce-4589-9930-128951290e8d",
   "metadata": {},
   "source": [
    "## Task 4 \n",
    "\n",
    "In this task, you will try to predict the number of crime victims as a **class number**. Therefore the machine learning problem is a **classification** problem. \n",
    "\n",
    "* Repeat all the steps in task 3. Specifically, pay attention to the differences with regression.\n",
    "* How would you find the number of classes on the output data?\n",
    "* How is the architecture different?\n",
    "* How is the loss function different?\n",
    "* Calculate the Accuracy for test data as the number of correct classified outputs divided by the total number of test data in each epoch. Report it at the end of each epoch\n",
    "* Try a few variations of learning rate, hidden dimensions, layers, etc. What is the best accuracy that you can get? "
   ]
  },
  {
   "cell_type": "markdown",
   "id": "5bb72422",
   "metadata": {},
   "source": [
    "Number of classes on the o/p data: The size of the predicted output should match the number of different classes that are \n",
    "                                  present in the CrimeStats Dataset. And this can be obtained by inspecting the dataset to \n",
    "                                  find unique class labels in the \"number of crime victims\" column.\n",
    "Architecture:The architecture should be different from the regression case.We have to use a different output layer with a                    softmax activation to produce class probabilities. The choice of architecture, including the number of layers and                hidden units, can be updated based on the accuracy of the model after testing it everytime.\n",
    "Loss function:For a classification problem, we should use a categorical cross-entropy loss function. Hence, we will be using                   nn.CrossEntropyLoss for this purpose."
   ]
  },
  {
   "cell_type": "code",
   "execution_count": 11,
   "id": "facea872",
   "metadata": {},
   "outputs": [
    {
     "name": "stdout",
     "output_type": "stream",
     "text": [
      "Epoch [1/20] - Loss: 8.7248 - Training Accuracy: 0.3364\n",
      "Test Accuracy: 0.4909\n",
      "Epoch [2/20] - Loss: 1.2678 - Training Accuracy: 0.4227\n",
      "Test Accuracy: 0.3636\n",
      "Epoch [3/20] - Loss: 1.0770 - Training Accuracy: 0.4591\n",
      "Test Accuracy: 0.4909\n",
      "Epoch [4/20] - Loss: 1.1058 - Training Accuracy: 0.5045\n",
      "Test Accuracy: 0.3636\n",
      "Epoch [5/20] - Loss: 1.0671 - Training Accuracy: 0.4682\n",
      "Test Accuracy: 0.4909\n",
      "Epoch [6/20] - Loss: 1.0855 - Training Accuracy: 0.4727\n",
      "Test Accuracy: 0.3636\n",
      "Epoch [7/20] - Loss: 1.1099 - Training Accuracy: 0.4500\n",
      "Test Accuracy: 0.4909\n",
      "Epoch [8/20] - Loss: 1.0634 - Training Accuracy: 0.5227\n",
      "Test Accuracy: 0.4909\n",
      "Epoch [9/20] - Loss: 1.0591 - Training Accuracy: 0.4773\n",
      "Test Accuracy: 0.4909\n",
      "Epoch [10/20] - Loss: 1.0506 - Training Accuracy: 0.5227\n",
      "Test Accuracy: 0.4909\n",
      "Epoch [11/20] - Loss: 1.0727 - Training Accuracy: 0.5227\n",
      "Test Accuracy: 0.3636\n",
      "Epoch [12/20] - Loss: 1.1097 - Training Accuracy: 0.4727\n",
      "Test Accuracy: 0.4909\n",
      "Epoch [13/20] - Loss: 1.0847 - Training Accuracy: 0.5227\n",
      "Test Accuracy: 0.4909\n",
      "Epoch [14/20] - Loss: 1.0283 - Training Accuracy: 0.5227\n",
      "Test Accuracy: 0.4909\n",
      "Epoch [15/20] - Loss: 1.0689 - Training Accuracy: 0.5227\n",
      "Test Accuracy: 0.4909\n",
      "Epoch [16/20] - Loss: 1.0819 - Training Accuracy: 0.5227\n",
      "Test Accuracy: 0.3818\n",
      "Epoch [17/20] - Loss: 0.9946 - Training Accuracy: 0.4955\n",
      "Test Accuracy: 0.4909\n",
      "Epoch [18/20] - Loss: 1.0703 - Training Accuracy: 0.5273\n",
      "Test Accuracy: 0.4909\n",
      "Epoch [19/20] - Loss: 1.1032 - Training Accuracy: 0.5227\n",
      "Test Accuracy: 0.3636\n",
      "Epoch [20/20] - Loss: 1.0880 - Training Accuracy: 0.4455\n",
      "Test Accuracy: 0.4909\n"
     ]
    }
   ],
   "source": [
    "# Define your neural network architecture\n",
    "class ClassificationCrimeClassifier(nn.Module):\n",
    "    def __init__(self, input_size, hidden_size, num_classes):\n",
    "        super(ClassificationCrimeClassifier, self).__init__()\n",
    "        self.fc1 = nn.Linear(input_size, hidden_size)\n",
    "        self.fc2 = nn.Linear(hidden_size, hidden_size)\n",
    "        self.fc3 = nn.Linear(hidden_size, num_classes)\n",
    "\n",
    "    def forward(self, x):\n",
    "        x = torch.relu(self.fc1(x))\n",
    "        x = torch.relu(self.fc2(x))\n",
    "        x = self.fc3(x)\n",
    "        return x\n",
    "\n",
    "# Determine the number of classes based on your data\n",
    "num_of_classes = len(df['VictimCount'].unique())\n",
    "\n",
    "# Define the model, loss function, and optimizer\n",
    "input_size = len(train_dataset[0][0])  # Input features\n",
    "hidden_size = 64  # Experiment with different values\n",
    "classifierModel = ClassificationCrimeClassifier(input_size, hidden_size, num_of_classes)\n",
    "criterion = nn.CrossEntropyLoss()\n",
    "optimizer = optim.SGD(classifierModel.parameters(), lr=0.01)\n",
    "\n",
    "# Training loop\n",
    "num_epochs = 20 # Experiment with different numbers of epochs\n",
    "for epoch in range(num_epochs):\n",
    "    classifierModel.train()\n",
    "    total_loss = 0.0\n",
    "    correct_predictions = 0\n",
    "\n",
    "    for inputs, targets in train_loader:\n",
    "        optimizer.zero_grad()\n",
    "        outputs = classifierModel(inputs.float())\n",
    "        loss = criterion(outputs, targets.long())\n",
    "        loss.backward()\n",
    "        optimizer.step()\n",
    "        total_loss += loss.item()\n",
    "\n",
    "        _, predicted = torch.max(outputs, 1)\n",
    "        correct_predictions += (predicted == targets).sum().item()\n",
    "\n",
    "    average_loss = total_loss / len(train_loader)\n",
    "    accuracy = correct_predictions / len(train_data)  # Training accuracy\n",
    "\n",
    "    print(f\"Epoch [{epoch + 1}/{num_epochs}] - Loss: {average_loss:.4f} - Training Accuracy: {accuracy:.4f}\")\n",
    "\n",
    "    # Testing the model\n",
    "    classifierModel.eval()\n",
    "    correct_predictions = 0\n",
    "\n",
    "    with torch.no_grad():\n",
    "        for inputs, targets in test_loader:\n",
    "            outputs = classifierModel(inputs.float())\n",
    "            _, predicted = torch.max(outputs, 1)\n",
    "            correct_predictions += (predicted == targets).sum().item()\n",
    "\n",
    "        test_accuracy = correct_predictions / len(test_data)\n",
    "        print(f\"Test Accuracy: {test_accuracy:.4f}\")\n"
   ]
  },
  {
   "cell_type": "markdown",
   "id": "84d2a304-6197-4cd9-b31e-745f7862f213",
   "metadata": {},
   "source": [
    "## Task 5"
   ]
  },
  {
   "cell_type": "markdown",
   "id": "d6e4ef16-d828-45e5-bd58-1c49fcfecf52",
   "metadata": {},
   "source": [
    "### Reflect on your results\n",
    "\n",
    "* Write a paragraph about your experience with tasks 3 and 4. How do you compare the results? Which one worked better? Why?\n",
    "* Write a piece of code that finds an example of a  miss-classification. Calculate the probabilities for the output classes and plot them in a bar chart. Also, indicate what is the correct class label."
   ]
  },
  {
   "cell_type": "markdown",
   "id": "695c666b",
   "metadata": {},
   "source": [
    "Our goal was to predict a continuous real number in the regression scenario and a discrete class label in the classification scenario. Each approach has its unique characteristics and challenges.\n",
    "\n",
    "The regression model employed Mean Squared Error (MSE) as the loss function to measure the continuous variation between the values that were predicted and those that were observed. The goal of the model was to reduce prediction error for the quantity of victims of crime.The degree to which the regression model accurately predicts the actual numerical values allows for a quantitative assessment of its performance.\n",
    "\n",
    "In the classification model, we used Cross-Entropy loss, and the goal was to categorize the number of crime victims into discrete classes. The number of classes was determined based on unique labels in the \"VictimCount\" column. Classification models aim to correctly classify data points into categories, and the results are evaluated using metrics like accuracy, which measures the proportion of correctly classified instances.\n",
    "\n",
    "The choice of which model worked better depends on the specific problem and dataset. If the task is to predict the exact number of victims with high precision, the regression model performs better. However, if the goal is to categorize crimes into broader classes (e.g., \"low,\" \"medium,\" \"high\" victim count), the classification model may be more appropriate."
   ]
  },
  {
   "cell_type": "code",
   "execution_count": 12,
   "id": "94415546",
   "metadata": {},
   "outputs": [
    {
     "data": {
      "image/png": "[encoded data removed]",
      "text/plain": [
       "<Figure size 640x480 with 1 Axes>"
      ]
     },
     "metadata": {},
     "output_type": "display_data"
    }
   ],
   "source": [
    "import matplotlib.pyplot as plt\n",
    "\n",
    "# Assuming 'test_data' contains the test dataset\n",
    "example_idx = 0  # Change this index to select a specific example\n",
    "example_inputs, true_class = test_dataset[example_idx]\n",
    "\n",
    "# Convert example_inputs to a PyTorch tensor\n",
    "example_inputs = torch.tensor(example_inputs, dtype=torch.float64)\n",
    "\n",
    "# Convert the model parameters to Double data type\n",
    "model = classifierModel.double()\n",
    "\n",
    "model.eval()\n",
    "with torch.no_grad():\n",
    "    outputs = model(example_inputs)\n",
    "    probabilities = torch.softmax(outputs, dim=0)\n",
    "    predicted_class = torch.argmax(outputs).item()\n",
    "\n",
    "# Visualize the class probabilities\n",
    "classes = [f\"Class {i}\" for i in range(num_of_classes)]\n",
    "plt.bar(classes, probabilities)\n",
    "plt.xlabel(\"Classes\")\n",
    "plt.ylabel(\"Probabilities\")\n",
    "plt.title(f\"True Class: {true_class}, Predicted Class: {predicted_class}\")\n",
    "plt.show()"
   ]
  },
  {
   "cell_type": "markdown",
   "id": "5b000b0b-fa37-4f8d-8ec7-0a1e6e749424",
   "metadata": {},
   "source": [
    "## Task 6: Exploring the patterns in raw data\n",
    "\n",
    "* Plot the crime incidents as a `scatter` plot using the corrdinates. Use the color property of each datapoint to indicate the day of the week. Is there a pattern in the plot?\n",
    "* Now make a new scatter plot and use the color property of each datapoint to indicate the number of persons involved in the incident. Is there a pattern here?\n",
    "* use numpy (or pandas if you like) to sort the number of crimes reported by the day of the week. What days are most frequent?\n"
   ]
  },
  {
   "cell_type": "code",
   "execution_count": 13,
   "id": "5b396aaf-5d1a-49cd-ae1d-b63af7e561f5",
   "metadata": {},
   "outputs": [
    {
     "data": {
      "image/png": "[encoded data removed]",
      "text/plain": [
       "<Figure size 1200x600 with 2 Axes>"
      ]
     },
     "metadata": {},
     "output_type": "display_data"
    }
   ],
   "source": [
    "import matplotlib.pyplot as plt\n",
    "import numpy as np\n",
    "plt.figure(figsize=(12, 6))\n",
    "plt.scatter(df['X'], df['Y'], c=df['DayOfWeek'], cmap='viridis', s=10)\n",
    "plt.colorbar(label='Day of the Week')\n",
    "plt.xlabel('Longitude (X)')\n",
    "plt.ylabel('Latitude (Y)')\n",
    "plt.title('Crime Incidents by Coordinates and Day of the Week')\n",
    "plt.show()"
   ]
  },
  {
   "cell_type": "code",
   "execution_count": 14,
   "id": "db82dac7",
   "metadata": {
    "scrolled": true
   },
   "outputs": [
    {
     "data": {
      "image/png": "[encoded data removed]",
      "text/plain": [
       "<Figure size 1200x600 with 2 Axes>"
      ]
     },
     "metadata": {},
     "output_type": "display_data"
    }
   ],
   "source": [
    "# Scatter plot based on coordinates with number of persons involved as color\n",
    "plt.figure(figsize=(12, 6))\n",
    "plt.scatter(df['X'], df['Y'], c=df['VictimCount'], cmap='coolwarm', s=10)\n",
    "plt.colorbar(label='Number of Persons Involved')\n",
    "plt.xlabel('Longitude (X)')\n",
    "plt.ylabel('Latitude (Y)')\n",
    "plt.title('Crime Incidents by Coordinates and Number of Persons Involved')\n",
    "plt.show()"
   ]
  },
  {
   "cell_type": "code",
   "execution_count": 15,
   "id": "aeac239c",
   "metadata": {},
   "outputs": [
    {
     "name": "stdout",
     "output_type": "stream",
     "text": [
      "Most frequent days for reported crimes:\n",
      "Friday--->51\n",
      "Thursday--->44\n",
      "Saturday--->43\n",
      "Monday--->40\n",
      "Tuesday--->37\n",
      "Wednesday--->32\n",
      "Sunday--->28\n"
     ]
    }
   ],
   "source": [
    "import numpy as np\n",
    "\n",
    "# Count the number of crimes reported by day of the week\n",
    "crime_count_by_day = np.bincount(df['DayOfWeek'])\n",
    "\n",
    "# Create a dictionary to map day indices to day names\n",
    "day_mapping = {\n",
    "    0: 'Monday',\n",
    "    1: 'Tuesday',\n",
    "    2: 'Wednesday',\n",
    "    3: 'Thursday',\n",
    "    4: 'Friday',\n",
    "    5: 'Saturday',\n",
    "    6: 'Sunday'\n",
    "}\n",
    "\n",
    "# Create a list of day names sorted by crime count\n",
    "sorted_days = [(day_mapping[i]+'--->'+str(crime_count_by_day[i])) for i in np.argsort(crime_count_by_day)[::-1]]\n",
    "\n",
    "# Display the most frequent days\n",
    "print(\"Most frequent days for reported crimes:\")\n",
    "for day in sorted_days:\n",
    "    print(day)"
   ]
  }
 ],
 "metadata": {
  "kernelspec": {
   "display_name": "Python 3 (ipykernel)",
   "language": "python",
   "name": "python3"
  },
  "language_info": {
   "codemirror_mode": {
    "name": "ipython",
    "version": 3
   },
   "file_extension": ".py",
   "mimetype": "text/x-python",
   "name": "python",
   "nbconvert_exporter": "python",
   "pygments_lexer": "ipython3",
   "version": "3.9.13"
  }
 },
 "nbformat": 4,
 "nbformat_minor": 5
}
